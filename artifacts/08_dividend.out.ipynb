{
 "cells": [
  {
   "cell_type": "code",
   "execution_count": 1,
   "id": "db9dd191",
   "metadata": {
    "execution": {
     "iopub.execute_input": "2025-07-17T08:17:40.193581Z",
     "iopub.status.busy": "2025-07-17T08:17:40.193213Z",
     "iopub.status.idle": "2025-07-17T08:17:43.103592Z",
     "shell.execute_reply": "2025-07-17T08:17:43.103302Z"
    },
    "papermill": {
     "duration": 2.916083,
     "end_time": "2025-07-17T08:17:43.104405",
     "exception": false,
     "start_time": "2025-07-17T08:17:40.188322",
     "status": "completed"
    },
    "tags": []
   },
   "outputs": [
    {
     "name": "stderr",
     "output_type": "stream",
     "text": [
      "/opt/anaconda3/lib/python3.12/site-packages/sklearn/preprocessing/_encoders.py:242: UserWarning: Found unknown categories in columns [0] during transform. These unknown categories will be encoded as all zeros\n",
      "  warnings.warn(\n"
     ]
    },
    {
     "name": "stdout",
     "output_type": "stream",
     "text": [
      "✅ Master CSV saved → data/all_stocks_master.csv\n"
     ]
    }
   ],
   "source": [
    "import pandas as pd\n",
    "import joblib\n",
    "from sklearn.preprocessing import StandardScaler\n",
    "from sklearn.cluster import KMeans\n",
    "\n",
    "# ───────────────────────────────────────────────────────────────\n",
    "# 1) 파일 경로 설정 (본인 환경에 맞게 바꿔 주세요)\n",
    "REG_DATA_FP   = 'data/module_datasets/regression.csv'\n",
    "FEAT_FP       = 'data/df_feat.parquet'                     # ← 여기 변경\n",
    "PRED_FP       = 'data/results/regression/regression_predictions_for_ensemble.csv'\n",
    "CLF_MODEL_FP  = 'data/models/lgbm_classifier.pkl'\n",
    "MASTER_CSV    = 'data/all_stocks_master.csv'\n",
    "\n",
    "# ───────────────────────────────────────────────────────────────\n",
    "# 2) 데이터 로드\n",
    "df_reg  = pd.read_csv(REG_DATA_FP, parse_dates=[\"rcept_dt\"], dtype={\"stock_code\":str})\n",
    "df_feat = pd.read_parquet(FEAT_FP)                         # ← parquet 로드\n",
    "df_pred = pd.read_csv(PRED_FP, parse_dates=[\"rcept_dt\"], dtype={\"stock_code\":str})\n",
    "\n",
    "# (필요하다면 타입 정리)\n",
    "df_feat[\"stock_code\"] = df_feat[\"stock_code\"].astype(str).str.zfill(6)\n",
    "df_feat[\"rcept_dt\"]   = pd.to_datetime(df_feat[\"rcept_dt\"])\n",
    "\n",
    "# ───────────────────────────────────────────────────────────────\n",
    "# 3) 분류 확률(p_up) 계산 \n",
    "clf = joblib.load(CLF_MODEL_FP)\n",
    "X_feat = df_feat.drop(columns=[\n",
    "    \"up_1d\",\"corp_name\",\"stock_code\",\"rcept_dt\",\"p_up\"\n",
    "], errors=\"ignore\")\n",
    "df_feat[\"p_up\"] = clf.predict_proba(X_feat)[:, 1]\n",
    "\n",
    "# ───────────────────────────────────────────────────────────────\n",
    "# 4) 클러스터 라벨 생성\n",
    "scaler = StandardScaler()\n",
    "scaled_feats    = scaler.fit_transform(df_pred[[\"y_pred\", \"residual\"]])\n",
    "df_pred[\"cluster\"] = KMeans(n_clusters=4, random_state=42, n_init=10).fit_predict(scaled_feats)\n",
    "\n",
    "# ───────────────────────────────────────────────────────────────\n",
    "# 5) 마스터 데이터 병합\n",
    "#    - df_feat 에는 stock_code, rcept_dt, corp_name, p_up, ret_1d, up_1d 등\n",
    "df_master = (\n",
    "    df_pred\n",
    "    .merge(df_feat[[\"stock_code\",\"rcept_dt\",\"corp_name\",\"p_up\",\"ret_1d\"]],\n",
    "           on=[\"stock_code\",\"rcept_dt\"], how=\"left\")\n",
    "    .merge(df_reg, on=[\"stock_code\",\"rcept_dt\"], how=\"left\", suffixes=(\"\",\"_orig\"))\n",
    ")\n",
    "\n",
    "# ───────────────────────────────────────────────────────────────\n",
    "# 6) CSV 저장\n",
    "df_master.to_csv(MASTER_CSV, index=False, encoding=\"utf-8-sig\")\n",
    "print(f\"✅ Master CSV saved → {MASTER_CSV}\")"
   ]
  }
 ],
 "metadata": {
  "kernelspec": {
   "display_name": "Python 3",
   "language": "python",
   "name": "python3"
  },
  "language_info": {
   "codemirror_mode": {
    "name": "ipython",
    "version": 3
   },
   "file_extension": ".py",
   "mimetype": "text/x-python",
   "name": "python",
   "nbconvert_exporter": "python",
   "pygments_lexer": "ipython3",
   "version": "3.12.2"
  },
  "papermill": {
   "default_parameters": {},
   "duration": 3.736741,
   "end_time": "2025-07-17T08:17:43.323475",
   "environment_variables": {},
   "exception": null,
   "input_path": "notebooks/08_dividend.ipynb",
   "output_path": "/Users/gun/Desktop/미래에셋 AI 공모전/artifacts/08_dividend.out.ipynb",
   "parameters": {},
   "start_time": "2025-07-17T08:17:39.586734",
   "version": "2.6.0"
  }
 },
 "nbformat": 4,
 "nbformat_minor": 5
}