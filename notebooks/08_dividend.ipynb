{
 "cells": [
  {
   "cell_type": "code",
   "execution_count": 2,
   "metadata": {},
   "outputs": [
    {
     "name": "stderr",
     "output_type": "stream",
     "text": [
      "/Library/Frameworks/Python.framework/Versions/3.13/lib/python3.13/site-packages/sklearn/preprocessing/_encoders.py:246: UserWarning: Found unknown categories in columns [0] during transform. These unknown categories will be encoded as all zeros\n",
      "  warnings.warn(\n",
      "/Library/Frameworks/Python.framework/Versions/3.13/lib/python3.13/site-packages/sklearn/utils/validation.py:2739: UserWarning: X does not have valid feature names, but LGBMClassifier was fitted with feature names\n",
      "  warnings.warn(\n",
      "/Library/Frameworks/Python.framework/Versions/3.13/lib/python3.13/site-packages/sklearn/utils/extmath.py:203: RuntimeWarning: divide by zero encountered in matmul\n",
      "  ret = a @ b\n",
      "/Library/Frameworks/Python.framework/Versions/3.13/lib/python3.13/site-packages/sklearn/utils/extmath.py:203: RuntimeWarning: overflow encountered in matmul\n",
      "  ret = a @ b\n",
      "/Library/Frameworks/Python.framework/Versions/3.13/lib/python3.13/site-packages/sklearn/utils/extmath.py:203: RuntimeWarning: invalid value encountered in matmul\n",
      "  ret = a @ b\n",
      "/Library/Frameworks/Python.framework/Versions/3.13/lib/python3.13/site-packages/sklearn/cluster/_kmeans.py:237: RuntimeWarning: divide by zero encountered in matmul\n",
      "  current_pot = closest_dist_sq @ sample_weight\n",
      "/Library/Frameworks/Python.framework/Versions/3.13/lib/python3.13/site-packages/sklearn/cluster/_kmeans.py:237: RuntimeWarning: overflow encountered in matmul\n",
      "  current_pot = closest_dist_sq @ sample_weight\n",
      "/Library/Frameworks/Python.framework/Versions/3.13/lib/python3.13/site-packages/sklearn/cluster/_kmeans.py:237: RuntimeWarning: invalid value encountered in matmul\n",
      "  current_pot = closest_dist_sq @ sample_weight\n"
     ]
    },
    {
     "name": "stdout",
     "output_type": "stream",
     "text": [
      "✅ Master CSV saved → /Users/gun/Desktop/미래에셋 AI 공모전/all_stocks_master.csv\n"
     ]
    }
   ],
   "source": [
    "import pandas as pd\n",
    "import joblib\n",
    "from sklearn.preprocessing import StandardScaler\n",
    "from sklearn.cluster import KMeans\n",
    "\n",
    "# ───────────────────────────────────────────────────────────────\n",
    "# 1) 파일 경로 설정 (본인 환경에 맞게 확인)\n",
    "REG_DATA_FP   = '/Users/gun/Desktop/미래에셋 AI 공모전/data/module_datasets/regression_enriched.csv'\n",
    "CLF_DATA_FP   = '/Users/gun/Desktop/미래에셋 AI 공모전/data/module_datasets/classification_with_text.csv'\n",
    "PRED_FP       = '/Users/gun/Desktop/미래에셋 AI 공모전/data/results/regression/regression_predictions_for_ensemble.csv'\n",
    "CLF_MODEL_FP  = '/Users/gun/Desktop/미래에셋 AI 공모전/data/models/lgbm_classifier.pkl'\n",
    "MASTER_CSV    = '/Users/gun/Desktop/미래에셋 AI 공모전/all_stocks_master.csv'\n",
    "\n",
    "# ───────────────────────────────────────────────────────────────\n",
    "# 2) 데이터 로드\n",
    "df_reg  = pd.read_csv(REG_DATA_FP,   parse_dates=[\"rcept_dt\"], dtype={\"stock_code\":str})\n",
    "df_clf  = pd.read_csv(CLF_DATA_FP,   parse_dates=[\"rcept_dt\"], dtype={\"stock_code\":str})\n",
    "df_pred = pd.read_csv(PRED_FP,       parse_dates=[\"rcept_dt\"], dtype={\"stock_code\":str})\n",
    "\n",
    "# ───────────────────────────────────────────────────────────────\n",
    "# 3) 분류 확률(p_up) 계산\n",
    "clf = joblib.load(CLF_MODEL_FP)\n",
    "X_clf = df_clf.drop(columns=[\"up_1d\",\"corp_name\",\"stock_code\",\"rcept_dt\"], errors=\"ignore\")\n",
    "df_clf[\"p_up\"] = clf.predict_proba(X_clf)[:, 1]\n",
    "\n",
    "# ───────────────────────────────────────────────────────────────\n",
    "# 4) 클러스터 라벨 생성\n",
    "scaler = StandardScaler()\n",
    "scaled_feats = scaler.fit_transform(df_pred[[\"y_pred\", \"residual\"]])\n",
    "df_pred[\"cluster\"] = KMeans(n_clusters=4, random_state=42, n_init=10).fit_predict(scaled_feats)\n",
    "\n",
    "# ───────────────────────────────────────────────────────────────\n",
    "# 5) 마스터 데이터 병합\n",
    "df_master = (\n",
    "    df_pred\n",
    "    .merge(df_clf[[\"stock_code\", \"rcept_dt\", \"p_up\"]],\n",
    "           on=[\"stock_code\", \"rcept_dt\"], how=\"left\")\n",
    "    .merge(df_reg, on=[\"stock_code\", \"rcept_dt\"], how=\"left\", suffixes=(\"\", \"_orig\"))\n",
    ")\n",
    "\n",
    "# ───────────────────────────────────────────────────────────────\n",
    "# 6) CSV 저장\n",
    "df_master.to_csv(MASTER_CSV, index=False, encoding=\"utf-8-sig\")\n",
    "print(f\"✅ Master CSV saved → {MASTER_CSV}\")"
   ]
  }
 ],
 "metadata": {
  "kernelspec": {
   "display_name": "Python 3",
   "language": "python",
   "name": "python3"
  },
  "language_info": {
   "codemirror_mode": {
    "name": "ipython",
    "version": 3
   },
   "file_extension": ".py",
   "mimetype": "text/x-python",
   "name": "python",
   "nbconvert_exporter": "python",
   "pygments_lexer": "ipython3",
   "version": "3.13.2"
  }
 },
 "nbformat": 4,
 "nbformat_minor": 2
}
